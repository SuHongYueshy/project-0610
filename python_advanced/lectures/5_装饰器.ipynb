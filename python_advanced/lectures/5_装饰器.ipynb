{
 "cells": [
  {
   "cell_type": "markdown",
   "metadata": {},
   "source": [
    "# Python Adv.\n",
    "\n",
    "## 装饰器 `Decorator`\n",
    "\n",
    "> 装饰器是一种函数，在代码运行期间，动态修改其他函数的功能"
   ]
  },
  {
   "cell_type": "markdown",
   "metadata": {},
   "source": [
    "## __name__"
   ]
  },
  {
   "cell_type": "code",
   "execution_count": 1,
   "metadata": {
    "ExecuteTime": {
     "end_time": "2019-06-12T08:48:36.238678Z",
     "start_time": "2019-06-12T08:48:36.227678Z"
    }
   },
   "outputs": [
    {
     "data": {
      "text/plain": [
       "4"
      ]
     },
     "execution_count": 1,
     "metadata": {},
     "output_type": "execute_result"
    }
   ],
   "source": [
    "def f(x):\n",
    "    return x * x\n",
    "\n",
    "t = f\n",
    "\n",
    "t(2)"
   ]
  },
  {
   "cell_type": "code",
   "execution_count": 2,
   "metadata": {
    "ExecuteTime": {
     "end_time": "2019-06-12T08:48:54.082699Z",
     "start_time": "2019-06-12T08:48:54.076698Z"
    }
   },
   "outputs": [
    {
     "data": {
      "text/plain": [
       "'f'"
      ]
     },
     "execution_count": 2,
     "metadata": {},
     "output_type": "execute_result"
    }
   ],
   "source": [
    "f.__name__"
   ]
  },
  {
   "cell_type": "code",
   "execution_count": 3,
   "metadata": {
    "ExecuteTime": {
     "end_time": "2019-06-11T02:22:31.035730Z",
     "start_time": "2019-06-11T02:22:31.028729Z"
    }
   },
   "outputs": [
    {
     "data": {
      "text/plain": [
       "'f'"
      ]
     },
     "execution_count": 3,
     "metadata": {},
     "output_type": "execute_result"
    }
   ],
   "source": [
    "t.__name__"
   ]
  },
  {
   "cell_type": "markdown",
   "metadata": {},
   "source": [
    "## Every thing in Python is object"
   ]
  },
  {
   "cell_type": "code",
   "execution_count": 11,
   "metadata": {
    "ExecuteTime": {
     "end_time": "2019-06-12T09:04:36.457600Z",
     "start_time": "2019-06-12T09:04:36.449599Z"
    }
   },
   "outputs": [
    {
     "name": "stdout",
     "output_type": "stream",
     "text": [
      "hi Python\n"
     ]
    }
   ],
   "source": [
    "def hi(name='Python'):\n",
    "    print('hi', name)\n",
    "\n",
    "hi()"
   ]
  },
  {
   "cell_type": "code",
   "execution_count": 13,
   "metadata": {
    "ExecuteTime": {
     "end_time": "2019-06-12T09:05:11.304593Z",
     "start_time": "2019-06-12T09:05:11.299592Z"
    }
   },
   "outputs": [
    {
     "name": "stdout",
     "output_type": "stream",
     "text": [
      "hi Python\n"
     ]
    }
   ],
   "source": [
    "hello = hi\n",
    "hello()"
   ]
  },
  {
   "cell_type": "code",
   "execution_count": 14,
   "metadata": {
    "ExecuteTime": {
     "end_time": "2019-06-12T09:05:34.820938Z",
     "start_time": "2019-06-12T09:05:34.755934Z"
    }
   },
   "outputs": [
    {
     "ename": "NameError",
     "evalue": "name 'hi' is not defined",
     "output_type": "error",
     "traceback": [
      "\u001b[1;31m---------------------------------------------------------------------------\u001b[0m",
      "\u001b[1;31mNameError\u001b[0m                                 Traceback (most recent call last)",
      "\u001b[1;32m<ipython-input-14-7f08fdbbfc80>\u001b[0m in \u001b[0;36m<module>\u001b[1;34m\u001b[0m\n\u001b[0;32m      1\u001b[0m \u001b[1;32mdel\u001b[0m \u001b[0mhi\u001b[0m\u001b[1;33m\u001b[0m\u001b[1;33m\u001b[0m\u001b[0m\n\u001b[1;32m----> 2\u001b[1;33m \u001b[0mhi\u001b[0m\u001b[1;33m(\u001b[0m\u001b[1;33m)\u001b[0m\u001b[1;33m\u001b[0m\u001b[1;33m\u001b[0m\u001b[0m\n\u001b[0m",
      "\u001b[1;31mNameError\u001b[0m: name 'hi' is not defined"
     ]
    }
   ],
   "source": [
    "del hi\n",
    "hi()"
   ]
  },
  {
   "cell_type": "code",
   "execution_count": 15,
   "metadata": {
    "ExecuteTime": {
     "end_time": "2019-06-12T09:05:56.301166Z",
     "start_time": "2019-06-12T09:05:56.296166Z"
    }
   },
   "outputs": [
    {
     "name": "stdout",
     "output_type": "stream",
     "text": [
      "hi Python\n"
     ]
    }
   ],
   "source": [
    "hello()"
   ]
  },
  {
   "cell_type": "markdown",
   "metadata": {},
   "source": [
    "## Define function in another function"
   ]
  },
  {
   "cell_type": "code",
   "execution_count": 18,
   "metadata": {
    "ExecuteTime": {
     "end_time": "2019-06-12T09:11:06.702920Z",
     "start_time": "2019-06-12T09:11:06.696920Z"
    }
   },
   "outputs": [
    {
     "name": "stdout",
     "output_type": "stream",
     "text": [
      "--- come in function hi ---\n",
      "function hi_a\n",
      "function hi_b\n",
      "--- back in function hi ---\n"
     ]
    }
   ],
   "source": [
    "def hi(name='Python'):\n",
    "    print('---', 'come in function hi', '---')\n",
    "    \n",
    "    def hi_a():\n",
    "        return 'function hi_a'\n",
    "        \n",
    "    def hi_b():\n",
    "        return 'function hi_b'\n",
    "        \n",
    "    print(hi_a())\n",
    "    print(hi_b())\n",
    "    \n",
    "    print('---', 'back in function hi', '---')\n",
    "    \n",
    "    \n",
    "hi()"
   ]
  },
  {
   "cell_type": "code",
   "execution_count": 19,
   "metadata": {
    "ExecuteTime": {
     "end_time": "2019-06-12T09:13:00.896452Z",
     "start_time": "2019-06-12T09:13:00.888451Z"
    }
   },
   "outputs": [
    {
     "ename": "NameError",
     "evalue": "name 'hi_a' is not defined",
     "output_type": "error",
     "traceback": [
      "\u001b[1;31m---------------------------------------------------------------------------\u001b[0m",
      "\u001b[1;31mNameError\u001b[0m                                 Traceback (most recent call last)",
      "\u001b[1;32m<ipython-input-19-f4665a1cbbd3>\u001b[0m in \u001b[0;36m<module>\u001b[1;34m\u001b[0m\n\u001b[1;32m----> 1\u001b[1;33m \u001b[0mhi_a\u001b[0m\u001b[1;33m(\u001b[0m\u001b[1;33m)\u001b[0m\u001b[1;33m\u001b[0m\u001b[1;33m\u001b[0m\u001b[0m\n\u001b[0m",
      "\u001b[1;31mNameError\u001b[0m: name 'hi_a' is not defined"
     ]
    }
   ],
   "source": [
    "hi_a()"
   ]
  },
  {
   "cell_type": "markdown",
   "metadata": {},
   "source": [
    "## Return a function from another function"
   ]
  },
  {
   "cell_type": "code",
   "execution_count": 22,
   "metadata": {
    "ExecuteTime": {
     "end_time": "2019-06-12T09:16:20.895891Z",
     "start_time": "2019-06-12T09:16:20.888891Z"
    }
   },
   "outputs": [
    {
     "data": {
      "text/plain": [
       "<function __main__.hi.<locals>.hi_a()>"
      ]
     },
     "execution_count": 22,
     "metadata": {},
     "output_type": "execute_result"
    }
   ],
   "source": [
    "def hi(name='Python'):\n",
    "    \n",
    "    def hi_a():\n",
    "        return 'function hi_a'\n",
    "    \n",
    "        \n",
    "    def hi_b():\n",
    "        return 'function hi_b'\n",
    "    \n",
    "    if name == 'Python':\n",
    "        return hi_a\n",
    "    else:\n",
    "        return hi_b\n",
    "    \n",
    "a = hi()\n",
    "a"
   ]
  },
  {
   "cell_type": "code",
   "execution_count": 23,
   "metadata": {
    "ExecuteTime": {
     "end_time": "2019-06-12T09:16:30.375433Z",
     "start_time": "2019-06-12T09:16:30.369433Z"
    }
   },
   "outputs": [
    {
     "data": {
      "text/plain": [
       "'function hi_a'"
      ]
     },
     "execution_count": 23,
     "metadata": {},
     "output_type": "execute_result"
    }
   ],
   "source": [
    "a()"
   ]
  },
  {
   "cell_type": "code",
   "execution_count": 24,
   "metadata": {
    "ExecuteTime": {
     "end_time": "2019-06-12T09:17:23.313461Z",
     "start_time": "2019-06-12T09:17:23.307461Z"
    }
   },
   "outputs": [
    {
     "data": {
      "text/plain": [
       "'function hi_a'"
      ]
     },
     "execution_count": 24,
     "metadata": {},
     "output_type": "execute_result"
    }
   ],
   "source": [
    "hi()()"
   ]
  },
  {
   "cell_type": "markdown",
   "metadata": {},
   "source": [
    "## Pass a function as a parameter"
   ]
  },
  {
   "cell_type": "code",
   "execution_count": 26,
   "metadata": {
    "ExecuteTime": {
     "end_time": "2019-06-12T09:21:45.525459Z",
     "start_time": "2019-06-12T09:21:45.519459Z"
    }
   },
   "outputs": [
    {
     "name": "stdout",
     "output_type": "stream",
     "text": [
      "do something before a function\n",
      "hi Python\n"
     ]
    }
   ],
   "source": [
    "def hi(name='Python'):\n",
    "    print('hi', name)\n",
    "    \n",
    "def before(func):\n",
    "    print('do something before a function')\n",
    "    func()\n",
    "    \n",
    "before(hi)"
   ]
  }
 ],
 "metadata": {
  "kernelspec": {
   "display_name": "Python 3",
   "language": "python",
   "name": "python3"
  },
  "language_info": {
   "codemirror_mode": {
    "name": "ipython",
    "version": 3
   },
   "file_extension": ".py",
   "mimetype": "text/x-python",
   "name": "python",
   "nbconvert_exporter": "python",
   "pygments_lexer": "ipython3",
   "version": "3.7.3"
  }
 },
 "nbformat": 4,
 "nbformat_minor": 2
}
